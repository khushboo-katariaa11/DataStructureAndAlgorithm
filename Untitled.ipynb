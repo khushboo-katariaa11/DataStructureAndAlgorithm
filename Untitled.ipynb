{
 "cells": [
  {
   "cell_type": "markdown",
   "id": "4e7e5d65-26b9-49e6-8502-ac145f4d0642",
   "metadata": {},
   "source": [
    "# DATA STRUCTURE AND ALGORITHM"
   ]
  },
  {
   "cell_type": "code",
   "execution_count": 4,
   "id": "4231977b-fe02-452d-a870-4da25da92e06",
   "metadata": {},
   "outputs": [],
   "source": [
    "# extraction of digits\n",
    "\n",
    "def extract(n):\n",
    "    r=0\n",
    "    while n:\n",
    "        r=n%10\n",
    "        print(r)\n",
    "        n=n//10\n",
    "\n",
    "# time complexity O(log10n)"
   ]
  },
  {
   "cell_type": "code",
   "execution_count": 2,
   "id": "99d8c5ee-8ff3-43b3-ab51-d4ae1e4d4acb",
   "metadata": {},
   "outputs": [
    {
     "name": "stdout",
     "output_type": "stream",
     "text": [
      "6\n",
      "6\n",
      "6\n",
      "3\n",
      "1\n"
     ]
    }
   ],
   "source": [
    "extract(13666)\n"
   ]
  },
  {
   "cell_type": "code",
   "execution_count": 6,
   "id": "96acf1d2-ad61-40e2-9f45-296fa469c1a3",
   "metadata": {},
   "outputs": [],
   "source": [
    "#count the number of digits\n",
    "def count(n):\n",
    "    r=0\n",
    "    count=0\n",
    "    while n:\n",
    "        \n",
    "        count+=1\n",
    "        n=n//10\n",
    "    return count\n",
    "\n",
    "# time complexity O(log10n)\n"
   ]
  },
  {
   "cell_type": "code",
   "execution_count": 7,
   "id": "541408ec-5ccf-4abf-af3c-1a17923c191a",
   "metadata": {},
   "outputs": [
    {
     "data": {
      "text/plain": [
       "4"
      ]
     },
     "execution_count": 7,
     "metadata": {},
     "output_type": "execute_result"
    }
   ],
   "source": [
    "count(3456)"
   ]
  },
  {
   "cell_type": "code",
   "execution_count": 15,
   "id": "00b9eefb-4861-45de-a2bc-a0059952f0f3",
   "metadata": {},
   "outputs": [],
   "source": [
    "#check if digits are palindrome or not\n",
    "def palindrome(n):\n",
    "    r=0\n",
    "    org=n\n",
    "    a=0  \n",
    "    while n:\n",
    "        r=n%10\n",
    "        a=a*10+r\n",
    "        n=n//10\n",
    "    return a==org\n",
    "\n",
    "# time complexity O(log10n)"
   ]
  },
  {
   "cell_type": "code",
   "execution_count": 16,
   "id": "a3031651-6bed-464b-aea6-2dd5e891039d",
   "metadata": {},
   "outputs": [
    {
     "data": {
      "text/plain": [
       "True"
      ]
     },
     "execution_count": 16,
     "metadata": {},
     "output_type": "execute_result"
    }
   ],
   "source": [
    "palindrome(121)"
   ]
  },
  {
   "cell_type": "code",
   "execution_count": 17,
   "id": "4cabfaee-e651-4a17-8a42-fcc2901fabff",
   "metadata": {},
   "outputs": [],
   "source": [
    "#check if the given number is armstrong or not\n",
    "import math\n",
    "def armstrong(n):\n",
    "    digit=int(math.log10(n))+1\n",
    "    r=0\n",
    "    org=n\n",
    "    a=0\n",
    "    while n:\n",
    "        r=n%10\n",
    "        a=a+pow(r,digit)\n",
    "        n=n//10\n",
    "    return a==org\n",
    "\n",
    "# time complexity O(log10n)"
   ]
  },
  {
   "cell_type": "code",
   "execution_count": 20,
   "id": "9f360d28-9a34-46e7-be51-6f9b2f7b26a2",
   "metadata": {},
   "outputs": [
    {
     "data": {
      "text/plain": [
       "False"
      ]
     },
     "execution_count": 20,
     "metadata": {},
     "output_type": "execute_result"
    }
   ],
   "source": [
    "armstrong(33)"
   ]
  },
  {
   "cell_type": "code",
   "execution_count": 27,
   "id": "b3a0e268-796f-4363-a709-b183d1cd96c4",
   "metadata": {},
   "outputs": [],
   "source": [
    "#factors of a given number\n",
    "def factor(n):\n",
    "    factor=[]\n",
    "    for i in range(1,int(math.sqrt(n))+1):\n",
    "        if n%i==0:\n",
    "            factor.append(i)\n",
    "            if n//i!=i:\n",
    "                factor.append(n//i)\n",
    "    return factor\n",
    "#time complexity O(root(n))\n"
   ]
  },
  {
   "cell_type": "code",
   "execution_count": 29,
   "id": "d92fdec7-8e55-4f23-bf30-a0868c8d90b7",
   "metadata": {},
   "outputs": [
    {
     "data": {
      "text/plain": [
       "[1, 7]"
      ]
     },
     "execution_count": 29,
     "metadata": {},
     "output_type": "execute_result"
    }
   ],
   "source": [
    "factor(7)"
   ]
  },
  {
   "cell_type": "code",
   "execution_count": 25,
   "id": "9aaa3a55-6685-4770-99cc-9843ca0613d3",
   "metadata": {},
   "outputs": [],
   "source": [
    "# digit that evenly divide the number\n",
    "def evenlyDivides(self, n):\n",
    "    r=0\n",
    "    org=n\n",
    "    count=0\n",
    "    while n:\n",
    "        r=n%10\n",
    "        if r!=0 and org%r==0:\n",
    "            count=count+1\n",
    "        n=n//10\n",
    "    return count"
   ]
  },
  {
   "cell_type": "code",
   "execution_count": 30,
   "id": "7ff856ea-6591-4cec-8f57-45f33b9690af",
   "metadata": {},
   "outputs": [],
   "source": [
    "# count number of digit\n",
    "import math\n",
    "def countDigit(n: int) -> int:\n",
    "  return int(math.log10(n))+1\n"
   ]
  },
  {
   "cell_type": "code",
   "execution_count": 31,
   "id": "491831ce-35e7-4f81-ab41-0f482ce97ec5",
   "metadata": {},
   "outputs": [],
   "source": [
    "# number prime or not\n",
    "def isPrime(self, n):\n",
    "        if n < 2:\n",
    "            return False\n",
    "        for i in range(2, int(math.sqrt(n)) + 1):\n",
    "            if n % i == 0:\n",
    "                return False\n",
    "        return True"
   ]
  },
  {
   "cell_type": "markdown",
   "id": "55521b16-a77d-4a05-a46c-0ffb46a135a4",
   "metadata": {},
   "source": [
    "## count the number of occurance"
   ]
  },
  {
   "cell_type": "code",
   "execution_count": 41,
   "id": "ca21ff41-2e49-483d-a34c-526ba473e4b9",
   "metadata": {},
   "outputs": [],
   "source": [
    "#method 1\n",
    "num=[5,6,3,3,5,3,2,1,3,4,5,6,7,8]\n",
    "d={}\n",
    "for i in range(0,len(num)):\n",
    "    if num[i] in d:\n",
    "        d[num[i]]=d[num[i]]+1\n",
    "    else:\n",
    "        d[num[i]]=1\n",
    "# method 2\n",
    "for i in range(0,len(num)):\n",
    "    d[num[i]]=d.get(num[i],0)+1\n",
    "\n",
    "# time complexity O(n)\n",
    "\n",
    "        "
   ]
  },
  {
   "cell_type": "markdown",
   "id": "7f704365-c0b8-4666-b45a-047fe8ce03a2",
   "metadata": {},
   "source": [
    "# hashing"
   ]
  },
  {
   "cell_type": "markdown",
   "id": "8178b8b9-1efb-4c06-9ec6-864976a3cab3",
   "metadata": {},
   "source": [
    "### hashing: Prestoring the element in data structure like list/set/dict and then fetch it"
   ]
  },
  {
   "cell_type": "code",
   "execution_count": 53,
   "id": "c625e820-1af1-4e05-86ac-49328d7e9594",
   "metadata": {},
   "outputs": [
    {
     "name": "stdout",
     "output_type": "stream",
     "text": [
      "0 - 0\n",
      "0 - 0\n",
      "2 - 2\n",
      "4 - 2\n",
      "2 - 2\n",
      "2 - 2\n",
      "1 - 0\n",
      "0 - 0\n",
      "1 - 0\n",
      "0 - 0\n",
      "0 - 0\n",
      "[0, 0, 2, 4, 2, 2, 1, 0, 1, 0, 0]\n"
     ]
    }
   ],
   "source": [
    "n=[4,5,3,3,2,5,3,2,6,8,4,3]\n",
    "m=[3,4,2,5]\n",
    "list_hash=[0]*11\n",
    "for i in n:\n",
    "    if i<1 and i>10:\n",
    "        continue\n",
    "    list_hash[i]=list_hash[i]+1\n",
    "for j in list_hash:\n",
    "    print(j,\"-\",list_hash[j])\n",
    "print(list_hash)"
   ]
  },
  {
   "cell_type": "markdown",
   "id": "51fc402d-51eb-48f4-a955-3f2ed0530782",
   "metadata": {},
   "source": [
    "# "
   ]
  },
  {
   "cell_type": "code",
   "execution_count": 67,
   "id": "c9c9ce53-01b0-4ccf-af0c-9c7324d4be63",
   "metadata": {},
   "outputs": [],
   "source": [
    "#HEAD recursion\n",
    "#print x n number of times\n",
    "count=0\n",
    "def printno(x,n):\n",
    "    global count\n",
    "    if count>=n:\n",
    "        return\n",
    "    else:\n",
    "        print(x)\n",
    "        count+=1\n",
    "        printno(x,n)\n",
    "    \n",
    "# time complexity O(n)    "
   ]
  },
  {
   "cell_type": "code",
   "execution_count": 63,
   "id": "dc5f81bb-b0b9-45d1-8892-0aa6c5c88982",
   "metadata": {},
   "outputs": [
    {
     "name": "stdout",
     "output_type": "stream",
     "text": [
      "hello\n",
      "hello\n",
      "hello\n",
      "hello\n"
     ]
    }
   ],
   "source": [
    "printno('hello',4)"
   ]
  },
  {
   "cell_type": "code",
   "execution_count": 64,
   "id": "c66a76c9-33a6-4a83-af54-12a80e0f9562",
   "metadata": {},
   "outputs": [],
   "source": [
    "#TAIL recursion\n",
    "#print x n number of times\n",
    "count=0\n",
    "def printno(x,n):\n",
    "    global count\n",
    "    if count>=n:\n",
    "        return\n",
    "    else:\n",
    "        \n",
    "        count+=1\n",
    "        printno(x,n)\n",
    "        print(x)\n",
    "    \n",
    " # time complexity O(n)    "
   ]
  },
  {
   "cell_type": "code",
   "execution_count": 65,
   "id": "7ce0e200-9cd0-4ea3-a93b-4803d11e6a47",
   "metadata": {},
   "outputs": [
    {
     "name": "stdout",
     "output_type": "stream",
     "text": [
      "hi\n",
      "hi\n",
      "hi\n",
      "hi\n",
      "hi\n"
     ]
    }
   ],
   "source": [
    "printno(\"hi\",5)"
   ]
  },
  {
   "cell_type": "code",
   "execution_count": 68,
   "id": "9a401a87-dbcf-42c0-96a3-3c3f3399fd49",
   "metadata": {},
   "outputs": [],
   "source": [
    "# parametrize recursion\n",
    "\n",
    "def printno(i,x,n):\n",
    "   \n",
    "    if i>=n:\n",
    "        return\n",
    "    else:\n",
    "        \n",
    "        \n",
    "        printno(i+1,x,n)\n",
    "        print(x)\n",
    "    \n",
    " # time complexity O(n)  "
   ]
  },
  {
   "cell_type": "code",
   "execution_count": 69,
   "id": "a1446f82-cbd0-46ef-9088-f35e66f0613e",
   "metadata": {},
   "outputs": [
    {
     "name": "stdout",
     "output_type": "stream",
     "text": [
      "yo\n",
      "yo\n",
      "yo\n",
      "yo\n"
     ]
    }
   ],
   "source": [
    "printno(0,\"yo\",4)"
   ]
  },
  {
   "cell_type": "code",
   "execution_count": 138,
   "id": "b38e70ca-6243-4151-8000-a6d94ac0a2b0",
   "metadata": {},
   "outputs": [],
   "source": [
    "#print 1 to n by HEAD RECURSTION\n",
    "def one2n(i,n):\n",
    "   \n",
    "    if i>=n:\n",
    "        return\n",
    "    else:\n",
    "        \n",
    "        print(i)\n",
    "        one2n(i+1,n)\n",
    "        \n",
    "    \n",
    " # time complexity O(n)  "
   ]
  },
  {
   "cell_type": "code",
   "execution_count": 139,
   "id": "1ab947f7-c7d2-4866-9af1-010b45fbbd12",
   "metadata": {},
   "outputs": [
    {
     "name": "stdout",
     "output_type": "stream",
     "text": [
      "5\n",
      "4\n",
      "3\n",
      "2\n",
      "1\n"
     ]
    }
   ],
   "source": [
    "one2n(1,6)"
   ]
  },
  {
   "cell_type": "code",
   "execution_count": 102,
   "id": "f5b2bb01-4868-4125-ac35-a76a773c3f7d",
   "metadata": {},
   "outputs": [],
   "source": [
    "#print 1 to n by TAIL RECURSTION\n",
    "def one2nt(i,n):\n",
    "    if n<1:\n",
    "        return\n",
    "    else:\n",
    "        one2nt(i+1,n-1)\n",
    "        print(n)\n",
    "        \n",
    "    \n",
    " # time complexity O(n)  "
   ]
  },
  {
   "cell_type": "code",
   "execution_count": 103,
   "id": "2cc8a1bd-eea2-4371-baba-741df1fffdf4",
   "metadata": {},
   "outputs": [
    {
     "name": "stdout",
     "output_type": "stream",
     "text": [
      "1\n",
      "2\n",
      "3\n",
      "4\n",
      "5\n"
     ]
    }
   ],
   "source": [
    "one2nt(1,5)"
   ]
  },
  {
   "cell_type": "code",
   "execution_count": 116,
   "id": "9dcbbd9e-e913-4496-83ae-b9bccdf5791d",
   "metadata": {},
   "outputs": [],
   "source": [
    "#print N TO 1 by HEAD RECURSTION\n",
    "def n2one(i,n):\n",
    "    if i<1:\n",
    "        return\n",
    "    else:\n",
    "        \n",
    "        print(i)\n",
    "        n2one(i-1,n)\n",
    "        \n",
    "    \n",
    " # time complexity O(n) "
   ]
  },
  {
   "cell_type": "code",
   "execution_count": 117,
   "id": "ee27ba68-58fa-43ad-b94b-21b40edd004d",
   "metadata": {},
   "outputs": [
    {
     "name": "stdout",
     "output_type": "stream",
     "text": [
      "5\n",
      "4\n",
      "3\n",
      "2\n",
      "1\n"
     ]
    }
   ],
   "source": [
    "n2one(5,5)"
   ]
  },
  {
   "cell_type": "code",
   "execution_count": 144,
   "id": "d0c5a2cf-4e1a-41b6-85c0-b1d032c49fa1",
   "metadata": {},
   "outputs": [],
   "source": [
    "#print N TO 1 by TAIL RECURSTION\n",
    "def n2oneT(i,n):\n",
    "    if i>n:\n",
    "        return\n",
    "    else:\n",
    "        \n",
    "        \n",
    "        n2oneT(i+1,n)\n",
    "        print(i)\n",
    "        \n",
    "    \n",
    " # time complexity O(n) "
   ]
  },
  {
   "cell_type": "code",
   "execution_count": 145,
   "id": "946eb8aa-30d0-4f68-953e-e569b34cd7e3",
   "metadata": {},
   "outputs": [
    {
     "name": "stdout",
     "output_type": "stream",
     "text": [
      "5\n",
      "4\n",
      "3\n",
      "2\n",
      "1\n"
     ]
    }
   ],
   "source": [
    "n2oneT(1,5)"
   ]
  },
  {
   "cell_type": "code",
   "execution_count": 162,
   "id": "fcab0659-06eb-42d6-9e57-91977a9582d8",
   "metadata": {},
   "outputs": [],
   "source": [
    "#sum of n natural number\n",
    "def sumn(a,i,n):\n",
    "    if i>n:\n",
    "        print(a)\n",
    "        return \n",
    "    else:\n",
    "        sumn(a+i,i+1,n)\n",
    "           "
   ]
  },
  {
   "cell_type": "code",
   "execution_count": 164,
   "id": "4ecf6fc1-6fe2-4191-bfa1-38eb3d19763c",
   "metadata": {},
   "outputs": [
    {
     "name": "stdout",
     "output_type": "stream",
     "text": [
      "6\n"
     ]
    }
   ],
   "source": [
    "sumn(0,1,3)\n"
   ]
  },
  {
   "cell_type": "code",
   "execution_count": 168,
   "id": "1aef9103-274c-46a9-805e-32c49a3e6e5e",
   "metadata": {},
   "outputs": [],
   "source": [
    "#functional recurssion\n",
    "def fsum(n):\n",
    "    if n==1:\n",
    "        return 1\n",
    "    else:\n",
    "       return n+fsum(n-1)"
   ]
  },
  {
   "cell_type": "code",
   "execution_count": 169,
   "id": "be67e4d3-bd33-41ef-98a9-14dbf1b4bdea",
   "metadata": {},
   "outputs": [
    {
     "data": {
      "text/plain": [
       "6"
      ]
     },
     "execution_count": 169,
     "metadata": {},
     "output_type": "execute_result"
    }
   ],
   "source": [
    "fsum(3)"
   ]
  },
  {
   "cell_type": "code",
   "execution_count": 170,
   "id": "9ecd911b-1711-4bbf-8918-ffa60750e6db",
   "metadata": {},
   "outputs": [],
   "source": [
    "#factorial of a number\n",
    "def fac(n):\n",
    "    if n==1:\n",
    "        return 1\n",
    "    else:\n",
    "       return n*fac(n-1)"
   ]
  },
  {
   "cell_type": "code",
   "execution_count": 171,
   "id": "460e109d-ae34-4d5a-847f-a3491dae8232",
   "metadata": {},
   "outputs": [
    {
     "data": {
      "text/plain": [
       "24"
      ]
     },
     "execution_count": 171,
     "metadata": {},
     "output_type": "execute_result"
    }
   ],
   "source": [
    "\n",
    "fac(4)"
   ]
  },
  {
   "cell_type": "code",
   "execution_count": 177,
   "id": "c186b4c5-73de-4fc3-b24d-cb7ef9929307",
   "metadata": {},
   "outputs": [],
   "source": [
    "#reversing an array\n",
    "def rev(s,e,a):\n",
    "    if s>e:\n",
    "        return\n",
    "    else:\n",
    "        a[s],a[e]=a[e],a[s]\n",
    "        rev(s+1,e-1,a)\n",
    "\n",
    "# 1 based index\n",
    "\tdef reverseSubArray(self,arr,l,r):\n",
    "\t     # Convert to 0-based indexing\n",
    "\t      \n",
    "        l -= 1\n",
    "        r -= 1\n",
    "\n",
    "        # Recursive function to reverse subarray in place\n",
    "        def helper(arr, left, right):\n",
    "            if left >= right:\n",
    "                return\n",
    "            arr[left], arr[right] = arr[right], arr[left]\n",
    "            helper(arr, left + 1, right - 1)\n",
    "\n",
    "        helper(arr, l, r)\n",
    "        return arr"
   ]
  },
  {
   "cell_type": "code",
   "execution_count": 179,
   "id": "efff0cc8-5627-4409-aa06-a14bb4afbe41",
   "metadata": {},
   "outputs": [
    {
     "data": {
      "text/plain": [
       "[6, 5, 4, 3, 2, 1]"
      ]
     },
     "execution_count": 179,
     "metadata": {},
     "output_type": "execute_result"
    }
   ],
   "source": [
    "a=[1,2,3,4,5,6]\n",
    "rev(0,5,a)\n",
    "a"
   ]
  },
  {
   "cell_type": "code",
   "execution_count": 200,
   "id": "f9c6d98f-7f6a-4f37-8b3e-d910acdeb1ed",
   "metadata": {},
   "outputs": [],
   "source": [
    "#check string palindrome or not\n",
    "def pal(s,e,a):\n",
    "    if s>e:\n",
    "        print(\"true\")\n",
    "        return \n",
    "    if a[s]!=a[e]:\n",
    "        return False\n",
    "    else:\n",
    "        \n",
    "        pal(s+1,e-1,a)"
   ]
  },
  {
   "cell_type": "code",
   "execution_count": 205,
   "id": "c30f5ff8-231b-4756-9706-7294ba8697a7",
   "metadata": {},
   "outputs": [
    {
     "name": "stdout",
     "output_type": "stream",
     "text": [
      "true\n"
     ]
    }
   ],
   "source": [
    "pal(0,3,\"abba\")"
   ]
  },
  {
   "cell_type": "code",
   "execution_count": 203,
   "id": "5a348759-bd3f-44ec-850d-e262a0efa6e1",
   "metadata": {},
   "outputs": [],
   "source": [
    "# faboncai series\n",
    "\n",
    "def fab(n):\n",
    "    if n==0:\n",
    "        return 0\n",
    "    if n==1:\n",
    "        return 1\n",
    "    else:\n",
    "       return fab(n-2)+fab(n-1)\n",
    "#time complexity O(2^N)"
   ]
  },
  {
   "cell_type": "code",
   "execution_count": 204,
   "id": "7383d388-17fc-4682-82fa-df8f75728de3",
   "metadata": {},
   "outputs": [
    {
     "data": {
      "text/plain": [
       "5"
      ]
     },
     "execution_count": 204,
     "metadata": {},
     "output_type": "execute_result"
    }
   ],
   "source": [
    "fab(5)"
   ]
  },
  {
   "cell_type": "markdown",
   "id": "9fe888ab-6af8-47ab-aa07-9480f04a3bd5",
   "metadata": {},
   "source": [
    "# sorting techniques\n"
   ]
  },
  {
   "cell_type": "code",
   "execution_count": 210,
   "id": "194cf32e-2356-4bdf-bcff-ca3bc703f2d2",
   "metadata": {},
   "outputs": [],
   "source": [
    "# 1. selection sort\n",
    "def selectionSort(self, arr):\n",
    "        for i in range(0,len(arr)):\n",
    "            minind=i\n",
    "            for j in range(i+1,len(arr)):\n",
    "                if arr[j]<arr[minind]:\n",
    "                    minind=j\n",
    "            arr[minind],arr[j]=arr[j],arr[minind]"
   ]
  },
  {
   "cell_type": "code",
   "execution_count": 211,
   "id": "d9fe9a41-aebb-43c8-976d-5b6105916b31",
   "metadata": {},
   "outputs": [],
   "source": [
    "# 2. bubble sort\n",
    "def bubbleSort(self,arr):\n",
    "        is_swap=False\n",
    "        for i in range(0,len(arr)):\n",
    "            \n",
    "            for j in range(0,len(arr)-i-1):\n",
    "                if arr[j]>arr[j+1]:\n",
    "                    arr[j],arr[j+1]=arr[j+1],arr[j]\n",
    "                    is_swap=True\n",
    "                    \n",
    "            if is_swap==False:\n",
    "                break"
   ]
  },
  {
   "cell_type": "code",
   "execution_count": 212,
   "id": "9e3c918a-4433-4fde-b86e-6e0462da2db0",
   "metadata": {},
   "outputs": [],
   "source": [
    "#3. insertion sort\n",
    "def insertionSort(self, arr):\n",
    "        for i in range(0,len(arr)):\n",
    "            crr=arr[i]\n",
    "            prev=i-1\n",
    "            while prev>=0 and arr[prev]>crr:\n",
    "                arr[prev+1]=arr[prev]\n",
    "                prev=prev-1\n",
    "            arr[prev+1]=crr\n"
   ]
  },
  {
   "cell_type": "code",
   "execution_count": null,
   "id": "dc989ec1-1243-4a3d-b44b-8b6d5d85ac55",
   "metadata": {},
   "outputs": [],
   "source": []
  }
 ],
 "metadata": {
  "kernelspec": {
   "display_name": "Python [conda env:base] *",
   "language": "python",
   "name": "conda-base-py"
  },
  "language_info": {
   "codemirror_mode": {
    "name": "ipython",
    "version": 3
   },
   "file_extension": ".py",
   "mimetype": "text/x-python",
   "name": "python",
   "nbconvert_exporter": "python",
   "pygments_lexer": "ipython3",
   "version": "3.12.7"
  }
 },
 "nbformat": 4,
 "nbformat_minor": 5
}
